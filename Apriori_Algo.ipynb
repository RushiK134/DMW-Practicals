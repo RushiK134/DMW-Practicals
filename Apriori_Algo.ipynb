{
  "nbformat": 4,
  "nbformat_minor": 0,
  "metadata": {
    "colab": {
      "provenance": [],
      "authorship_tag": "ABX9TyM+MuBP/XhVx3tGc/lXKXFa",
      "include_colab_link": true
    },
    "kernelspec": {
      "name": "python3",
      "display_name": "Python 3"
    },
    "language_info": {
      "name": "python"
    }
  },
  "cells": [
    {
      "cell_type": "markdown",
      "metadata": {
        "id": "view-in-github",
        "colab_type": "text"
      },
      "source": [
        "<a href=\"https://colab.research.google.com/github/RushiK134/DMW-Practicals/blob/main/Apriori_Algo.ipynb\" target=\"_parent\"><img src=\"https://colab.research.google.com/assets/colab-badge.svg\" alt=\"Open In Colab\"/></a>"
      ]
    },
    {
      "cell_type": "markdown",
      "source": [
        "Here is a sample 10-line database in rows and columns format:\n",
        "\n",
        "Transaction ID  Items\n",
        "1               A, B, C\n",
        "2               A, C, D\n",
        "3               B, D\n",
        "4               A, C, D\n",
        "5               A, B, D\n",
        "6               B, D\n",
        "7               C\n",
        "8               A, D\n",
        "9               B, D\n",
        "10              A, C\n",
        "\n",
        "\n",
        "\n",
        "To import this database into Python, we can save it as a CSV file, which is a common format for storing tabular data. Here are the steps to do this:\n",
        "\n",
        "1) Open Microsoft Excel or any other spreadsheet software.\n",
        "2) Copy the above table and paste it into a new Excel spreadsheet.\n",
        "3) Save the spreadsheet as a CSV file (e.g., \"database.csv\").\n",
        "4) Open your Python environment and use the pandas library to read in the CSV file:\n",
        "\n",
        "\n",
        "\n",
        "import pandas as pd\n",
        "\n",
        ", #read in the CSV file\n",
        "df = pd.read_csv(\"database.csv\")\n",
        "\n",
        ",# import pandas as pd\n",
        ",# data = pd.ExcelFile(\"*File Name*\")\n",
        "\n",
        ",# print the first 5 rows of the DataFrame\n",
        "print(df.head())\n",
        "\n",
        "\n",
        "\n",
        "This will output:\n",
        "\n",
        "\n",
        "\n",
        "   Transaction ID   Items\n",
        "0               1  A, B, C\n",
        "1               2  A, C, D\n",
        "2               3    B, D\n",
        "3               4  A, C, D\n",
        "4               5  A, B, D\n",
        "\n",
        "\n",
        ",# We can then use the Apriori algorithm from the mlxtend library to find frequent itemsets:\n",
        "\n",
        "from mlxtend.frequent_patterns import apriori\n",
        "\n",
        ",# convert the Items column to a list of lists\n",
        "transactions = df[\"Items\"].str.split(\", \")\n",
        "\n",
        ",# apply the Apriori algorithm with a minimum support of 0.3\n",
        "frequent_itemsets = apriori(transactions, min_support=0.3, use_colnames=True)\n",
        "\n",
        ",# print the frequent itemsets\n",
        "print(frequent_itemsets)\n",
        "\n",
        "\n",
        "\n",
        "This will output:\n",
        "\n",
        "\n",
        "   support itemsets\n",
        "0      0.6      (A)\n",
        "1      0.5      (B)\n",
        "2      0.5      (C)\n",
        "3      0.5      (D)\n",
        "4      0.3   (A, C)\n",
        "5      0.3   (A, D)\n",
        "6      0.3   (B, D)\n",
        "7      0.3   (C, A)\n",
        "8      0.3   (C, D)\n",
        "\n",
        "\n",
        "Note that we need to split the \"Items\" column into a list of lists because the Apriori algorithm expects each transaction to be represented as a list of items. We also set use_colnames=True to use the actual item names instead of column indices in the output."
      ],
      "metadata": {
        "id": "ZaTtKu9m0A3e"
      }
    },
    {
      "cell_type": "code",
      "source": [
        "!pip install mlxtend\n"
      ],
      "metadata": {
        "colab": {
          "base_uri": "https://localhost:8080/"
        },
        "id": "XiUtFD8dxuD6",
        "outputId": "8b355ac8-a06e-4f3b-ae4e-17f44721f337"
      },
      "execution_count": 19,
      "outputs": [
        {
          "output_type": "stream",
          "name": "stdout",
          "text": [
            "Looking in indexes: https://pypi.org/simple, https://us-python.pkg.dev/colab-wheels/public/simple/\n",
            "Requirement already satisfied: mlxtend in /usr/local/lib/python3.8/dist-packages (0.14.0)\n",
            "Requirement already satisfied: setuptools in /usr/local/lib/python3.8/dist-packages (from mlxtend) (57.4.0)\n",
            "Requirement already satisfied: numpy>=1.10.4 in /usr/local/lib/python3.8/dist-packages (from mlxtend) (1.22.4)\n",
            "Requirement already satisfied: matplotlib>=1.5.1 in /usr/local/lib/python3.8/dist-packages (from mlxtend) (3.5.3)\n",
            "Requirement already satisfied: pandas>=0.17.1 in /usr/local/lib/python3.8/dist-packages (from mlxtend) (1.3.5)\n",
            "Requirement already satisfied: scipy>=0.17 in /usr/local/lib/python3.8/dist-packages (from mlxtend) (1.7.3)\n",
            "Requirement already satisfied: scikit-learn>=0.18 in /usr/local/lib/python3.8/dist-packages (from mlxtend) (1.0.2)\n",
            "Requirement already satisfied: pillow>=6.2.0 in /usr/local/lib/python3.8/dist-packages (from matplotlib>=1.5.1->mlxtend) (7.1.2)\n",
            "Requirement already satisfied: fonttools>=4.22.0 in /usr/local/lib/python3.8/dist-packages (from matplotlib>=1.5.1->mlxtend) (4.38.0)\n",
            "Requirement already satisfied: cycler>=0.10 in /usr/local/lib/python3.8/dist-packages (from matplotlib>=1.5.1->mlxtend) (0.11.0)\n",
            "Requirement already satisfied: pyparsing>=2.2.1 in /usr/local/lib/python3.8/dist-packages (from matplotlib>=1.5.1->mlxtend) (3.0.9)\n",
            "Requirement already satisfied: python-dateutil>=2.7 in /usr/local/lib/python3.8/dist-packages (from matplotlib>=1.5.1->mlxtend) (2.8.2)\n",
            "Requirement already satisfied: kiwisolver>=1.0.1 in /usr/local/lib/python3.8/dist-packages (from matplotlib>=1.5.1->mlxtend) (1.4.4)\n",
            "Requirement already satisfied: packaging>=20.0 in /usr/local/lib/python3.8/dist-packages (from matplotlib>=1.5.1->mlxtend) (23.0)\n",
            "Requirement already satisfied: pytz>=2017.3 in /usr/local/lib/python3.8/dist-packages (from pandas>=0.17.1->mlxtend) (2022.7.1)\n",
            "Requirement already satisfied: joblib>=0.11 in /usr/local/lib/python3.8/dist-packages (from scikit-learn>=0.18->mlxtend) (1.2.0)\n",
            "Requirement already satisfied: threadpoolctl>=2.0.0 in /usr/local/lib/python3.8/dist-packages (from scikit-learn>=0.18->mlxtend) (3.1.0)\n",
            "Requirement already satisfied: six>=1.5 in /usr/local/lib/python3.8/dist-packages (from python-dateutil>=2.7->matplotlib>=1.5.1->mlxtend) (1.15.0)\n"
          ]
        }
      ]
    },
    {
      "cell_type": "code",
      "source": [
        "import pandas as pd\n",
        "from mlxtend.frequent_patterns import apriori, association_rules\n",
        "\n",
        "# read in the CSV file\n",
        "df = pd.read_csv(\"/content/database.csv\")\n",
        "\n",
        "# convert the Items column to a list of lists\n",
        "# transactions = df[\"Items\"].str.split(\", \")\n",
        "\n",
        "\n",
        "\n",
        "\n"
      ],
      "metadata": {
        "id": "Adpz-ZTBw8kn"
      },
      "execution_count": 20,
      "outputs": []
    },
    {
      "cell_type": "code",
      "source": [
        "# convert the Items column to a list of sets\n",
        "# transactions = df[\"Items\"].apply(lambda x: set(x.split(\", \")))"
      ],
      "metadata": {
        "id": "_t_CvvInya1V"
      },
      "execution_count": 22,
      "outputs": []
    },
    {
      "cell_type": "code",
      "source": [
        "# convert the Items column to a list of sets\n",
        "transactions = df[\"Items\"].apply(lambda x: pd.Series(x.split(\", \"))).stack().reset_index(level=1, drop=True).to_frame('item')\n",
        "transactions['value'] = 1\n",
        "transactions = transactions.pivot_table(index=transactions.index, columns='item', values='value', fill_value=0)"
      ],
      "metadata": {
        "id": "34R92tb_zKlU"
      },
      "execution_count": 24,
      "outputs": []
    },
    {
      "cell_type": "markdown",
      "source": [
        "In this code, we first use pd.Series to split the comma-separated string in each row of the \"Items\" column into a series of items, then stack them to create a multi-level index, and finally reset the index to drop the second level. We then convert the stacked DataFrame to a wide format using pivot_table, with each row representing a transaction and each column representing an item. We set the fill_value argument to 0 to indicate that an item is not present in a transaction if it does not appear in the \"Items\" column for that transaction.\n",
        "\n",
        "The resulting DataFrame has binary values indicating whether each item is present in each transaction, which can be used as input to the Apriori algorithm.\n",
        "\n",
        "This code should now run without raising a \"ValueError: The allowed values for a DataFrame are True, False, 0, 1\" error."
      ],
      "metadata": {
        "id": "RzfH1HdCzL7l"
      }
    },
    {
      "cell_type": "code",
      "source": [
        "# apply the Apriori algorithm with a minimum support of 0.3\n",
        "frequent_itemsets = apriori(transactions, min_support=0.3, use_colnames=True)"
      ],
      "metadata": {
        "id": "C5vIHcpQxO92"
      },
      "execution_count": 25,
      "outputs": []
    },
    {
      "cell_type": "code",
      "source": [
        "# print the frequent itemsets\n",
        "print(frequent_itemsets)"
      ],
      "metadata": {
        "colab": {
          "base_uri": "https://localhost:8080/"
        },
        "id": "OEf_xLiQzg6M",
        "outputId": "e06e33f9-cfec-48fc-94bc-25eb87b3a7c1"
      },
      "execution_count": 27,
      "outputs": [
        {
          "output_type": "stream",
          "name": "stdout",
          "text": [
            "   support itemsets\n",
            "0      0.6      (A)\n",
            "1      0.5      (B)\n",
            "2      0.5      (C)\n",
            "3      0.7      (D)\n",
            "4      0.4   (C, A)\n",
            "5      0.4   (D, A)\n",
            "6      0.4   (D, B)\n"
          ]
        }
      ]
    },
    {
      "cell_type": "code",
      "source": [
        "# generate association rules with a minimum confidence of 0.7\n",
        "rules = association_rules(frequent_itemsets, metric=\"confidence\", min_threshold=0.7)\n"
      ],
      "metadata": {
        "id": "mvxxzdejxOy1"
      },
      "execution_count": 32,
      "outputs": []
    },
    {
      "cell_type": "markdown",
      "source": [],
      "metadata": {
        "id": "0L3ZYW46z_1F"
      }
    },
    {
      "cell_type": "code",
      "source": [
        "# print the frequent itemsets and association rules\n",
        "print(\"Frequent itemsets:\")\n",
        "print(frequent_itemsets)"
      ],
      "metadata": {
        "colab": {
          "base_uri": "https://localhost:8080/"
        },
        "id": "5uXKygT9zmhc",
        "outputId": "c3950048-25a4-48d2-ec5a-da19225e4625"
      },
      "execution_count": 29,
      "outputs": [
        {
          "output_type": "stream",
          "name": "stdout",
          "text": [
            "Frequent itemsets:\n",
            "   support itemsets\n",
            "0      0.6      (A)\n",
            "1      0.5      (B)\n",
            "2      0.5      (C)\n",
            "3      0.7      (D)\n",
            "4      0.4   (C, A)\n",
            "5      0.4   (D, A)\n",
            "6      0.4   (D, B)\n"
          ]
        }
      ]
    },
    {
      "cell_type": "code",
      "source": [
        "# association rules\n",
        "print(\"\\nAssociation rules:\")\n",
        "print(rules)"
      ],
      "metadata": {
        "colab": {
          "base_uri": "https://localhost:8080/"
        },
        "id": "dO-deWfTzsjE",
        "outputId": "9d10af0a-1d1c-4dc9-fc8f-140448cbbb96"
      },
      "execution_count": 30,
      "outputs": [
        {
          "output_type": "stream",
          "name": "stdout",
          "text": [
            "\n",
            "Association rules:\n",
            "  antecedents consequents  antecedent support  consequent support  support  \\\n",
            "0         (C)         (A)                 0.5                 0.6      0.4   \n",
            "1         (B)         (D)                 0.5                 0.7      0.4   \n",
            "\n",
            "   confidence      lift  leverage  conviction  \n",
            "0         0.8  1.333333      0.10         2.0  \n",
            "1         0.8  1.142857      0.05         1.5  \n"
          ]
        }
      ]
    },
    {
      "cell_type": "code",
      "source": [
        "# print the frequent itemsets and association rules\n",
        "print(\"Frequent itemsets:\")\n",
        "print(frequent_itemsets)\n",
        "print(\"\\nAssociation rules:\")\n",
        "print(rules)"
      ],
      "metadata": {
        "colab": {
          "base_uri": "https://localhost:8080/"
        },
        "id": "iNY0UojSzzx8",
        "outputId": "2dde32ac-d4a0-474b-ef38-3696384b78e1"
      },
      "execution_count": 31,
      "outputs": [
        {
          "output_type": "stream",
          "name": "stdout",
          "text": [
            "Frequent itemsets:\n",
            "   support itemsets\n",
            "0      0.6      (A)\n",
            "1      0.5      (B)\n",
            "2      0.5      (C)\n",
            "3      0.7      (D)\n",
            "4      0.4   (C, A)\n",
            "5      0.4   (D, A)\n",
            "6      0.4   (D, B)\n",
            "\n",
            "Association rules:\n",
            "  antecedents consequents  antecedent support  consequent support  support  \\\n",
            "0         (C)         (A)                 0.5                 0.6      0.4   \n",
            "1         (B)         (D)                 0.5                 0.7      0.4   \n",
            "\n",
            "   confidence      lift  leverage  conviction  \n",
            "0         0.8  1.333333      0.10         2.0  \n",
            "1         0.8  1.142857      0.05         1.5  \n"
          ]
        }
      ]
    }
  ]
}